{
  "nbformat": 4,
  "nbformat_minor": 0,
  "metadata": {
    "colab": {
      "name": "Multi Layer Perceptron by using MNIST.ipynb",
      "provenance": [],
      "collapsed_sections": [],
      "authorship_tag": "ABX9TyM3LpZQu4OxDaQ1Je04vbH/",
      "include_colab_link": true
    },
    "kernelspec": {
      "name": "python3",
      "display_name": "Python 3"
    },
    "language_info": {
      "name": "python"
    }
  },
  "cells": [
    {
      "cell_type": "markdown",
      "metadata": {
        "id": "view-in-github",
        "colab_type": "text"
      },
      "source": [
        "<a href=\"https://colab.research.google.com/github/JINU6497/JINUrepo/blob/master/Multi_Layer_Perceptron_by_using_MNIST.ipynb\" target=\"_parent\"><img src=\"https://colab.research.google.com/assets/colab-badge.svg\" alt=\"Open In Colab\"/></a>"
      ]
    },
    {
      "cell_type": "code",
      "metadata": {
        "id": "aHl5YNGnTonh"
      },
      "source": [
        "'''1. 모듈 임포트'''\n",
        "\n",
        "import numpy as np  # 선형대수와 관련된 함수를 이용할 수 있게 해주는 모듈\n",
        "import matplotlib.pyplot as plt  # 함수 실행 결과를 시각화해주는 모듈\n",
        "import torch\n",
        "import torch.nn as nn  # 파이토치 모듈 중 인공 신경망 모델을 설계할 때 필요한 함수 모아둔 모듈\n",
        "import torch.nn.functional as F  # torch.nn 모듈 중에서도 자주 이용되는 함수를 F로 저장\n",
        "from torchvision import transforms, datasets  # torchvision 모듈 내 transforms, datasets 함수 import"
      ],
      "execution_count": 76,
      "outputs": []
    },
    {
      "cell_type": "markdown",
      "metadata": {
        "id": "Y9B0f9G0hMVh"
      },
      "source": [
        ""
      ]
    },
    {
      "cell_type": "code",
      "metadata": {
        "colab": {
          "base_uri": "https://localhost:8080/"
        },
        "id": "ikUOOGesiH2P",
        "outputId": "cfd2a638-044a-4190-ee63-faff367aa39c"
      },
      "source": [
        "'''2. 딥러닝 모델 설계할 때 활용하는 장비 확인'''\n",
        "\n",
        "if torch.cuda.is_available():\n",
        "  DEVICE=torch.device('cuda')\n",
        "else:\n",
        "  DEVICE=torch.device('cpu')\n",
        "\n",
        "print('Using Pytorch version:',torch.__version__,'Device:',DEVICE)\n",
        "\n",
        "#Using Pytorch version: 1.9.0+cu102 Device: cpu"
      ],
      "execution_count": 77,
      "outputs": [
        {
          "output_type": "stream",
          "text": [
            "Using Pytorch version: 1.9.0+cu102 Device: cpu\n"
          ],
          "name": "stdout"
        }
      ]
    },
    {
      "cell_type": "code",
      "metadata": {
        "id": "OzHXjY8RiJYz"
      },
      "source": [
        "BATCH_SIZE=32\n",
        "EPOCHS=10"
      ],
      "execution_count": 78,
      "outputs": []
    },
    {
      "cell_type": "code",
      "metadata": {
        "id": "7KTBTV3_jRZK"
      },
      "source": [
        "'''3. MNIST 데이터 다운로드 후, Training set과 Test set 분리'''\n",
        "train_dataset=datasets.MNIST(root=\"../data/MNIST\",train=True,download=True,transform=transforms.ToTensor()) \n",
        "test_dataset=datasets.MNIST(root=\"../data/MNIST\",train=False,transform=transforms.ToTensor())\n",
        "# MNIST 데이터셋 다운로드, root: 데이터가 저장될 장소를 지정. 여기서 ../은 상위 폴더를 의미한다.\n",
        "# train: 대상 데이터가 MLP 모델을 학습하기 위해 이용하는 학습용 데이터인지, 테스트 데이터인지 지정\n",
        "# download: 해당 데이터를 인터넷상에서 다운로드해 이용할 것인지 지정\n",
        "# transform: MNIST는 사람의 손글씨 데이터로 이미지이다. 이때 다운로드 하며서 이미지 데이터에 대하여 기본적인 전처리를 진행할 수 있는데, 여기서는 ToTensor()를 이용해 tensor형태로 변경. \n",
        "# 또한 한 픽셀은 0~255의 스칼라 값으로 구성되는데, 이를 0~1 범위에서 정규화 시켜줌.\n",
        "\n",
        "train_loader=torch.utils.data.DataLoader(dataset=train_dataset, batch_size=BATCH_SIZE,shuffle=True)\n",
        "test_loader=torch.utils.data.DataLoader(dataset=test_dataset, batch_size=BATCH_SIZE,shuffle=False)\n",
        "# 다운로드한 MNIST 데이터셋을 Mini Batch 단위로 분리해 지정. 즉 32개만큼 묶어 1개의 Mini-Batch로 구성.\n",
        "# dataset: Mini-Batch 단위로 할당하고자 하는 데이터셋을 지정\n",
        "# batch_size: Mini-Batch 1개 단위를 구성하는 데이터의 개수 지정\n",
        "# shuffle: 데이터의 순서를 섞고자 할 때 이용. MLP모델이 학습을 진행할 때 Label 정보의 순서를 암기해 학습을 진행할 수 있으므로, 잘못된 방향으로 학습하는 것을 방지하기 위함."
      ],
      "execution_count": 79,
      "outputs": []
    },
    {
      "cell_type": "code",
      "metadata": {
        "colab": {
          "base_uri": "https://localhost:8080/"
        },
        "id": "MdfV7PmoQTkR",
        "outputId": "1d38a152-4efc-45ed-e4f7-ac311d3c50ff"
      },
      "source": [
        "'''4. 데이터 확인'''\n",
        "\n",
        "for (x_train, y_train) in train_loader:\n",
        "  print('x_train:',x_train.size(),'type:',x_train.type())\n",
        "  print('y_train:',y_train.size(),'type:',y_train.type())  \n",
        "  break\n",
        "\n",
        "# x_train: torch.Size([32, 1, 28, 28]) type: torch.FloatTensor\n",
        "# 32개의 이미지 데이터가 1개의 Mini-Batch 구성하고 있고 가로 28개, 세로 28개의 픽셀로 구성되며,\n",
        "# 채널1이므로 그레이스케일로 이뤄진, 즉 흑백으로 이뤄진 이미지 데이터\n",
        "# y_train: torch.Size([32]) type: torch.LongTensor\n",
        "# 32개의 이미지 데이터 각각에 label값이 1개씩 존재하기 때문에 32개의 값을 갖고 있다."
      ],
      "execution_count": 80,
      "outputs": [
        {
          "output_type": "stream",
          "text": [
            "x_train: torch.Size([32, 1, 28, 28]) type: torch.FloatTensor\n",
            "y_train: torch.Size([32]) type: torch.LongTensor\n"
          ],
          "name": "stdout"
        }
      ]
    },
    {
      "cell_type": "code",
      "metadata": {
        "colab": {
          "base_uri": "https://localhost:8080/",
          "height": 94
        },
        "id": "2-3rb54LlnTv",
        "outputId": "f5b984a3-e190-43f8-aef0-f99e540b6655"
      },
      "source": [
        "pltsize=1\n",
        "plt.figure(figsize=(10*pltsize,pltsize))\n",
        "for i in range(10):\n",
        "  plt.subplot(1,10,i+1)\n",
        "  plt.axis('off')\n",
        "  plt.imshow(x_train[i,:,:,:].numpy().reshape(28,28),cmap='gray_r')\n",
        "  plt.title('class:'+str(y_train[i].item()))"
      ],
      "execution_count": 81,
      "outputs": [
        {
          "output_type": "display_data",
          "data": {
            "image/png": "[encoded data removed]",
            "text/plain": [
              "<Figure size 720x72 with 10 Axes>"
            ]
          },
          "metadata": {
            "tags": [],
            "needs_background": "light"
          }
        }
      ]
    },
    {
      "cell_type": "code",
      "metadata": {
        "id": "I1aEg8Ammfxd"
      },
      "source": [
        "'''5. MLP 모델 설계'''\n",
        "class Net(nn.Module):             # nn.module 클래스를 상속받는 Net 클래스 정의. nn.module 클래스를 상속받음으로 nn.module 클래스가 이용할 수 있는 함수를 그대로 이용가능\n",
        "  def __init__(self):             \n",
        "    super(Net,self).__init__()    # nn.module 내에 있는 method 상속받아서 이용\n",
        "    self.fc1=nn.Linear(28*28,512) # 첫번째 Fully connected layer 정의.\n",
        "    self.fc2=nn.Linear(512,256)\n",
        "    self.fc3=nn.Linear(256,10)    # 0부터 9까지 총 10가지 class 표현하기 위해 label 값을 10개로 one-hot encording으로 표현. 이후 Loss값 계산에도 용이\n",
        "  def forward(self,x):            # MLP 모델의 forward propagation 정의\n",
        "    x=x.view(-1,28*28)            # MLP 모델은 1차원의 벡터 값을 입력으로 받을 수 있으나, MNIST는 크기가 28*28인 이미지 2차원 데이터. 이에 1차원으로 Flatten하게 변환.\n",
        "    x=self.fc1(x)                 # 첫 번째 fully connected layer에 이미지를 통과시킨다\n",
        "    x=F.sigmoid(x)                # torch.nn.functional 내에 정의된 비선형 함수인 sigmoid()를 이용하여 두 번째 fully connected layer의 input으로 계산\n",
        "    x=self.fc2(x)                 # torch.nn.functional 은 pyTorch 중 인공 신경망 설계에 유용한 함수를 모아놓은 것 \n",
        "    x=F.sigmoid(x)\n",
        "    x=self.fc3(x)\n",
        "    x=F.log_softmax(x,dim=1)      # torch.nn.functional 내의 log.softmax이용. softmax가 아니라 이를 이용하는 이유는 MLP모델이 Back propagation알고르짐 이용해 학습할 때 Loss 값에 대한 Gradient 값을 좀 더 원활하게 계산할 수 있기 때문이다.\n",
        "    return x"
      ],
      "execution_count": 82,
      "outputs": []
    },
    {
      "cell_type": "code",
      "metadata": {
        "colab": {
          "base_uri": "https://localhost:8080/"
        },
        "id": "BOEBTRAxLmC6",
        "outputId": "dd46dd5c-8ff4-4d32-b366-69a4ea590379"
      },
      "source": [
        "'''6. Optimizer, Objective Function설정'''\n",
        "model = Net().to(DEVICE)         # 위에서 정의한 model을 DEVICE에 할당. GPU로 계산하기 위함\n",
        "optimizer = torch.optim.SGD(model.parameters() , lr=0.01 , momentum = 0.5) # SGD로 Optimizer 정의. momentum은 optimizer 관성을 의미\n",
        "criterion = nn.CrossEntropyLoss()  # MLP 모델의 output 값과 계산될 Label은 class를 표현하는 one-hot encording 값. 이때 Loss를 cross entropy이용하여 계산\n",
        "\n",
        "print(model)\n",
        "\n",
        "#Net(\n",
        "#  (fc1): Linear(in_features=784, out_features=512, bias=True)\n",
        "#  (fc2): Linear(in_features=512, out_features=256, bias=True)\n",
        "#  (fc3): Linear(in_features=256, out_features=10, bias=True)\n",
        "#)"
      ],
      "execution_count": 83,
      "outputs": [
        {
          "output_type": "stream",
          "text": [
            "Net(\n",
            "  (fc1): Linear(in_features=784, out_features=512, bias=True)\n",
            "  (fc2): Linear(in_features=512, out_features=256, bias=True)\n",
            "  (fc3): Linear(in_features=256, out_features=10, bias=True)\n",
            ")\n"
          ],
          "name": "stdout"
        }
      ]
    },
    {
      "cell_type": "code",
      "metadata": {
        "id": "t1SEY2DpM4Pg"
      },
      "source": [
        "'''7. 학습 데이터에 대한 MLP 모델 성능 확인하는 함수 정의'''\n",
        "def train(model , train_loader , optimizer , log_interval):\n",
        "  model.train()  # 기존에 정의한 MLP모델을 학습 상태로 지정\n",
        "  for batch_idx,(image,label) in enumerate(train_loader): # train_loader 내에 Mini-Batch 단위로 저장된 데이터를 순서대로 이용해 MLP모형 학습\n",
        "    image = image.to(DEVICE)  # 기존에 정의한 장비(GPU)에 할당\n",
        "    label = label.to(DEVICE)\n",
        "    optimizer.zero_grad()  # 과거에 이용한 Mini-Batch 내의 이미지 데이터와 레이블 데이터를 바탕으로 계산된 Loss가 할당되어 있으므로 초기화 시켜준다.\n",
        "    output = model(image)  # 장비에 할당한 이미지 데이터를 MLP 모델의 Input으로 이용해 Output도출\n",
        "    loss = criterion(output, label)  # Output 데이터와 Label 데이터 이용하여 cross entropy로 loss 도출\n",
        "    loss.backward()  # back propagation통하여 Gradient값 계산\n",
        "    optimizer.step()  # 각 parameter에 할당된 gradient 값을 이용해 parameter 업데이트\n",
        "\n",
        "    if batch_idx % log_interval == 0:\n",
        "      print('train epoch:{} [{}/{}({:.0f}%)]\\tTrain Loss: {:.6f}'.format(\n",
        "          Epoch, batch_idx * len(image),\n",
        "          len(train_loader.dataset), 100. * batch_idx / len(train_loader),\n",
        "          loss.item()\n",
        "      ))"
      ],
      "execution_count": 84,
      "outputs": []
    },
    {
      "cell_type": "code",
      "metadata": {
        "id": "VcsuLPVQOcXe"
      },
      "source": [
        "'''8. 검증 데이터에 대한 MLP 모델의 성능 확인하는 함수 정의'''\n",
        "def evaluate(model, test_loader):  \n",
        "  model.eval()  # 학습 과정 또는 학습이 완료된 MLP 모델을 평가 상태로 지정\n",
        "  test_loss = 0  # Loss 값 계산을 위하여 test_loss를 0으로 임시 설정\n",
        "  correct = 0  # MLP모델이 올바른 Class로 분류한 경우를 세기 위해 correct=0 으로 임시 지정\n",
        "\n",
        "  with torch.no_grad():  # 평가하는 단계이므로 Gradient를 통해 parameter가 업데이트 되는 현상 방지\n",
        "    for image, label in test_loader:  # 기존에 정의한 test_loader 내의 데이터도 train_loader와 동일하게 Mini-Batch 단위로 저장되어 있으므로, Mini-Batch 내 이미지 데이터와 레이블 데이터에 차례대로 접근 \n",
        "      image = image.to(DEVICE)  # GPU에 할당\n",
        "      label = label.to(DEVICE)\n",
        "      output = model(image)  # GPU에 할당한 이미지 데이터를 MLP 모델의 Input으로 Output 계산\n",
        "      test_loss += criterion(output, label).item()  # CrossEntropy를 이용해 loss값을 계산한 결과값을 test_loss에 저장\n",
        "      prediction = output.max(1, keepdim=True)[1]  # MLP 모델의 Output은 크기가 10인 벡터인데, 계산된 벡터 값 내 가장 큰 값인 위치에 대해 해당 위치에 대응하는 클래스로 예측했다고 판단\n",
        "      output = model(image)  # GPU에 할당한 이미지 데이터를 MLP 모델의 Input으로 Output 계산\n",
        "      test_loss += criterion(output, label).item()  # CrossEntropy를 이용해 loss값을 계산한 결과값을 test_loss에 저장\n",
        "      prediction = output.max(1, keepdim=True)[1]  # MLP 모델의 Output은 크기가 10인 벡터인데, 계산된 벡터 값 내 가장 큰 값인 위치에 대해 해당 위치에 대응하는 클래스로 예측했다고 판단\n",
        "      correct += prediction.eq(label.view_as(prediction)).sum().item()  # 학습시킨 MLP모델이 최종으로 예측한 클래스 값과 실제 레이블이 의미하는 클래스가 맞으면 맞춘 횟수 저장 \n",
        "  \n",
        "  test_loss /= len(test_loader.dataset)  # 현재까지 계산된 test_loss 값을 test_loader 내에 존재하는 Mini-Batch 개수만큼 나눠 평균 Loss값으로 계산\n",
        "  test_accuracy = 100. * correct/len(test_loader.dataset)  #  얼마나 맞췄는지 계산해 정확도 계산\n",
        "  return test_loss, test_accuracy"
      ],
      "execution_count": 85,
      "outputs": []
    },
    {
      "cell_type": "code",
      "metadata": {
        "colab": {
          "base_uri": "https://localhost:8080/"
        },
        "id": "J1fRQzL_Ocqg",
        "outputId": "ef095b3a-c85c-42a4-cb42-d0463d0e39b4"
      },
      "source": [
        "'''9. MLP 학습 실행하면서 Training, Test Set의 Loss 및 Accuracy 확인'''\n",
        "for Epoch in range(1, EPOCHS+1):\n",
        "  train(model, train_loader, optimizer, log_interval = 200)  # 정의한 train 함수 실행.\n",
        "  # model: 기존에 정의한 MLP 모델\n",
        "  # train_loader: 학습 데이터\n",
        "  # optimizer: SGD\n",
        "  # log_interval: 학습이 진행되면서 Mini-Batch의 Index를 이용해 과정을 모니터링할 수 있도록 출력하는 것 의미\n",
        "  test_loss,test_accuracy = evaluate(model, test_loader)  # 각 Epoch별로 출력되는 Loss 값과 accuracy값 계산\n",
        "  print('\\n[EPOCH:{}], \\tTest Loss:{:.4f}, \\tTest Accuracy:{:.2f} %\\n'.\n",
        "  format(Epoch, test_loss, test_accuracy))"
      ],
      "execution_count": 86,
      "outputs": [
        {
          "output_type": "stream",
          "text": [
            "train epoch:1 [0/60000(0%)]\tTrain Loss: 2.462306\n"
          ],
          "name": "stdout"
        },
        {
          "output_type": "stream",
          "text": [
            "/usr/local/lib/python3.7/dist-packages/torch/nn/functional.py:1805: UserWarning: nn.functional.sigmoid is deprecated. Use torch.sigmoid instead.\n",
            "  warnings.warn(\"nn.functional.sigmoid is deprecated. Use torch.sigmoid instead.\")\n"
          ],
          "name": "stderr"
        },
        {
          "output_type": "stream",
          "text": [
            "train epoch:1 [6400/60000(11%)]\tTrain Loss: 2.332918\n",
            "train epoch:1 [12800/60000(21%)]\tTrain Loss: 2.308297\n",
            "train epoch:1 [19200/60000(32%)]\tTrain Loss: 2.264112\n",
            "train epoch:1 [25600/60000(43%)]\tTrain Loss: 2.323621\n",
            "train epoch:1 [32000/60000(53%)]\tTrain Loss: 2.304912\n",
            "train epoch:1 [38400/60000(64%)]\tTrain Loss: 2.275291\n",
            "train epoch:1 [44800/60000(75%)]\tTrain Loss: 2.304893\n",
            "train epoch:1 [51200/60000(85%)]\tTrain Loss: 2.294853\n",
            "train epoch:1 [57600/60000(96%)]\tTrain Loss: 2.241517\n",
            "\n",
            "[EPOCH:1], \tTest Loss:0.1398, \tTest Accuracy:32.21 %\n",
            "\n",
            "train epoch:2 [0/60000(0%)]\tTrain Loss: 2.209002\n",
            "train epoch:2 [6400/60000(11%)]\tTrain Loss: 2.186373\n",
            "train epoch:2 [12800/60000(21%)]\tTrain Loss: 2.207806\n",
            "train epoch:2 [19200/60000(32%)]\tTrain Loss: 2.101304\n",
            "train epoch:2 [25600/60000(43%)]\tTrain Loss: 2.009421\n",
            "train epoch:2 [32000/60000(53%)]\tTrain Loss: 1.884526\n",
            "train epoch:2 [38400/60000(64%)]\tTrain Loss: 1.750800\n",
            "train epoch:2 [44800/60000(75%)]\tTrain Loss: 1.584707\n",
            "train epoch:2 [51200/60000(85%)]\tTrain Loss: 1.385670\n",
            "train epoch:2 [57600/60000(96%)]\tTrain Loss: 1.131015\n",
            "\n",
            "[EPOCH:2], \tTest Loss:0.0801, \tTest Accuracy:62.72 %\n",
            "\n",
            "train epoch:3 [0/60000(0%)]\tTrain Loss: 1.377796\n",
            "train epoch:3 [6400/60000(11%)]\tTrain Loss: 1.188170\n",
            "train epoch:3 [12800/60000(21%)]\tTrain Loss: 1.306041\n",
            "train epoch:3 [19200/60000(32%)]\tTrain Loss: 0.968698\n",
            "train epoch:3 [25600/60000(43%)]\tTrain Loss: 1.014690\n",
            "train epoch:3 [32000/60000(53%)]\tTrain Loss: 1.118027\n",
            "train epoch:3 [38400/60000(64%)]\tTrain Loss: 0.710338\n",
            "train epoch:3 [44800/60000(75%)]\tTrain Loss: 0.833866\n",
            "train epoch:3 [51200/60000(85%)]\tTrain Loss: 0.802588\n",
            "train epoch:3 [57600/60000(96%)]\tTrain Loss: 0.814365\n",
            "\n",
            "[EPOCH:3], \tTest Loss:0.0485, \tTest Accuracy:76.52 %\n",
            "\n",
            "train epoch:4 [0/60000(0%)]\tTrain Loss: 0.746851\n",
            "train epoch:4 [6400/60000(11%)]\tTrain Loss: 0.608775\n",
            "train epoch:4 [12800/60000(21%)]\tTrain Loss: 0.658615\n",
            "train epoch:4 [19200/60000(32%)]\tTrain Loss: 0.664582\n",
            "train epoch:4 [25600/60000(43%)]\tTrain Loss: 0.627396\n",
            "train epoch:4 [32000/60000(53%)]\tTrain Loss: 0.872428\n",
            "train epoch:4 [38400/60000(64%)]\tTrain Loss: 0.672291\n",
            "train epoch:4 [44800/60000(75%)]\tTrain Loss: 0.557921\n",
            "train epoch:4 [51200/60000(85%)]\tTrain Loss: 0.799393\n",
            "train epoch:4 [57600/60000(96%)]\tTrain Loss: 0.561614\n",
            "\n",
            "[EPOCH:4], \tTest Loss:0.0362, \tTest Accuracy:82.90 %\n",
            "\n",
            "train epoch:5 [0/60000(0%)]\tTrain Loss: 0.429459\n",
            "train epoch:5 [6400/60000(11%)]\tTrain Loss: 0.895202\n",
            "train epoch:5 [12800/60000(21%)]\tTrain Loss: 0.527918\n",
            "train epoch:5 [19200/60000(32%)]\tTrain Loss: 0.752083\n",
            "train epoch:5 [25600/60000(43%)]\tTrain Loss: 0.448343\n",
            "train epoch:5 [32000/60000(53%)]\tTrain Loss: 0.508734\n",
            "train epoch:5 [38400/60000(64%)]\tTrain Loss: 0.423110\n",
            "train epoch:5 [44800/60000(75%)]\tTrain Loss: 0.869918\n",
            "train epoch:5 [51200/60000(85%)]\tTrain Loss: 0.342656\n",
            "train epoch:5 [57600/60000(96%)]\tTrain Loss: 0.674710\n",
            "\n",
            "[EPOCH:5], \tTest Loss:0.0292, \tTest Accuracy:86.32 %\n",
            "\n",
            "train epoch:6 [0/60000(0%)]\tTrain Loss: 0.340783\n",
            "train epoch:6 [6400/60000(11%)]\tTrain Loss: 0.725334\n",
            "train epoch:6 [12800/60000(21%)]\tTrain Loss: 0.402602\n",
            "train epoch:6 [19200/60000(32%)]\tTrain Loss: 0.452227\n",
            "train epoch:6 [25600/60000(43%)]\tTrain Loss: 0.442050\n",
            "train epoch:6 [32000/60000(53%)]\tTrain Loss: 0.353101\n",
            "train epoch:6 [38400/60000(64%)]\tTrain Loss: 0.358215\n",
            "train epoch:6 [44800/60000(75%)]\tTrain Loss: 0.287192\n",
            "train epoch:6 [51200/60000(85%)]\tTrain Loss: 0.478917\n",
            "train epoch:6 [57600/60000(96%)]\tTrain Loss: 0.249735\n",
            "\n",
            "[EPOCH:6], \tTest Loss:0.0256, \tTest Accuracy:88.34 %\n",
            "\n",
            "train epoch:7 [0/60000(0%)]\tTrain Loss: 0.317132\n",
            "train epoch:7 [6400/60000(11%)]\tTrain Loss: 0.493089\n",
            "train epoch:7 [12800/60000(21%)]\tTrain Loss: 0.506567\n",
            "train epoch:7 [19200/60000(32%)]\tTrain Loss: 0.355416\n",
            "train epoch:7 [25600/60000(43%)]\tTrain Loss: 0.644335\n",
            "train epoch:7 [32000/60000(53%)]\tTrain Loss: 0.437313\n",
            "train epoch:7 [38400/60000(64%)]\tTrain Loss: 0.288236\n",
            "train epoch:7 [44800/60000(75%)]\tTrain Loss: 0.347097\n",
            "train epoch:7 [51200/60000(85%)]\tTrain Loss: 0.372766\n",
            "train epoch:7 [57600/60000(96%)]\tTrain Loss: 0.337911\n",
            "\n",
            "[EPOCH:7], \tTest Loss:0.0238, \tTest Accuracy:89.14 %\n",
            "\n",
            "train epoch:8 [0/60000(0%)]\tTrain Loss: 0.359469\n",
            "train epoch:8 [6400/60000(11%)]\tTrain Loss: 0.436737\n",
            "train epoch:8 [12800/60000(21%)]\tTrain Loss: 0.481193\n",
            "train epoch:8 [19200/60000(32%)]\tTrain Loss: 0.177974\n",
            "train epoch:8 [25600/60000(43%)]\tTrain Loss: 0.470010\n",
            "train epoch:8 [32000/60000(53%)]\tTrain Loss: 0.248901\n",
            "train epoch:8 [38400/60000(64%)]\tTrain Loss: 0.361797\n",
            "train epoch:8 [44800/60000(75%)]\tTrain Loss: 0.378324\n",
            "train epoch:8 [51200/60000(85%)]\tTrain Loss: 0.369089\n",
            "train epoch:8 [57600/60000(96%)]\tTrain Loss: 0.424278\n",
            "\n",
            "[EPOCH:8], \tTest Loss:0.0226, \tTest Accuracy:89.71 %\n",
            "\n",
            "train epoch:9 [0/60000(0%)]\tTrain Loss: 0.381061\n",
            "train epoch:9 [6400/60000(11%)]\tTrain Loss: 0.287109\n",
            "train epoch:9 [12800/60000(21%)]\tTrain Loss: 0.273418\n",
            "train epoch:9 [19200/60000(32%)]\tTrain Loss: 0.235996\n",
            "train epoch:9 [25600/60000(43%)]\tTrain Loss: 0.503435\n",
            "train epoch:9 [32000/60000(53%)]\tTrain Loss: 0.224630\n",
            "train epoch:9 [38400/60000(64%)]\tTrain Loss: 0.219742\n",
            "train epoch:9 [44800/60000(75%)]\tTrain Loss: 0.328054\n",
            "train epoch:9 [51200/60000(85%)]\tTrain Loss: 0.328976\n",
            "train epoch:9 [57600/60000(96%)]\tTrain Loss: 0.295822\n",
            "\n",
            "[EPOCH:9], \tTest Loss:0.0216, \tTest Accuracy:89.96 %\n",
            "\n",
            "train epoch:10 [0/60000(0%)]\tTrain Loss: 0.249581\n",
            "train epoch:10 [6400/60000(11%)]\tTrain Loss: 0.179429\n",
            "train epoch:10 [12800/60000(21%)]\tTrain Loss: 0.448339\n",
            "train epoch:10 [19200/60000(32%)]\tTrain Loss: 0.740329\n",
            "train epoch:10 [25600/60000(43%)]\tTrain Loss: 0.440101\n",
            "train epoch:10 [32000/60000(53%)]\tTrain Loss: 0.356393\n",
            "train epoch:10 [38400/60000(64%)]\tTrain Loss: 0.449847\n",
            "train epoch:10 [44800/60000(75%)]\tTrain Loss: 0.823399\n",
            "train epoch:10 [51200/60000(85%)]\tTrain Loss: 0.352996\n",
            "train epoch:10 [57600/60000(96%)]\tTrain Loss: 0.385371\n",
            "\n",
            "[EPOCH:10], \tTest Loss:0.0210, \tTest Accuracy:90.31 %\n",
            "\n"
          ],
          "name": "stdout"
        }
      ]
    }
  ]
}