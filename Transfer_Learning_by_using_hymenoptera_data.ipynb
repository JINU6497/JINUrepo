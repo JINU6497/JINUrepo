{
  "nbformat": 4,
  "nbformat_minor": 0,
  "metadata": {
    "colab": {
      "name": "Transfer Learning by using hymenoptera_data.ipynb",
      "provenance": [],
      "collapsed_sections": [],
      "mount_file_id": "1mY_q5a9-qO6bO5mlxiRyiq4Xl3Z9Q2iy",
      "authorship_tag": "ABX9TyM8Guziiz1J3DiiPZs14Oam",
      "include_colab_link": true
    },
    "kernelspec": {
      "name": "python3",
      "display_name": "Python 3"
    },
    "language_info": {
      "name": "python"
    },
    "accelerator": "GPU"
  },
  "cells": [
    {
      "cell_type": "markdown",
      "metadata": {
        "id": "view-in-github",
        "colab_type": "text"
      },
      "source": [
        "<a href=\"https://colab.research.google.com/github/JINU6497/JINUrepo/blob/master/Transfer_Learning_by_using_hymenoptera_data.ipynb\" target=\"_parent\"><img src=\"https://colab.research.google.com/assets/colab-badge.svg\" alt=\"Open In Colab\"/></a>"
      ]
    },
    {
      "cell_type": "code",
      "metadata": {
        "id": "Wk0ikdkizE20"
      },
      "source": [
        "'''1. 모듈 임포트하기'''\n",
        "\n",
        "import numpy as np\n",
        "import matplotlib.pyplot as plt\n",
        "\n",
        "import torch\n",
        "import torch.nn as nn\n",
        "import torch.nn.functional as F\n",
        "from torchvision import transforms, datasets"
      ],
      "execution_count": 24,
      "outputs": []
    },
    {
      "cell_type": "code",
      "metadata": {
        "id": "Qi2zxuEp1Bun"
      },
      "source": [
        "'''2. 딥러닝 모델 설계에 활용하는 장비 확인'''\n",
        "\n",
        "if torch.cuda.is_available():\n",
        "  DEVICE=torch.device(\"cuda\")\n",
        "else:\n",
        "  DEVICE=torch.device(\"cpu\")\n"
      ],
      "execution_count": 25,
      "outputs": []
    },
    {
      "cell_type": "code",
      "metadata": {
        "id": "CAcenKTk1aMG"
      },
      "source": [
        "BATCH_SIZE=32\n",
        "EPOCHS=10"
      ],
      "execution_count": 26,
      "outputs": []
    },
    {
      "cell_type": "code",
      "metadata": {
        "id": "4kxWeYyB1euT"
      },
      "source": [
        "'''3. 데이터 다운(Train과 Test Set 분리)'''\n",
        "\n",
        "data_transforms={\n",
        "    'train':transforms.Compose([\n",
        "                                transforms.RandomResizedCrop(224),\n",
        "                                transforms.RandomHorizontalFlip(),\n",
        "                                transforms.ToTensor(),\n",
        "                                transforms.Normalize([0.5,0.5,0.5],[0.5,0.5,0.5])\n",
        "                                ]), \n",
        "    'val':transforms.Compose([\n",
        "                                transforms.RandomResizedCrop(224),\n",
        "                                transforms.Resize(256),\n",
        "                                transforms.RandomHorizontalFlip(),\n",
        "                                transforms.ToTensor(),\n",
        "                                transforms.Normalize([0.5,0.5,0.5],[0.5,0.5,0.5])\n",
        "                                ]),}\n",
        "\n",
        "image_datasets={x:datasets.ImageFolder(\"/content/drive/MyDrive/hymenoptera_data/hymenoptera_data\",data_transforms[x]) for x in ['train','val']}\n",
        "dataloaders={x:torch.utils.data.DataLoader(image_datasets[x],batch_size=BATCH_SIZE,num_workers=0,shuffle=True) for x in ['train','val']}"
      ],
      "execution_count": 27,
      "outputs": []
    },
    {
      "cell_type": "markdown",
      "metadata": {
        "id": "c1Xzj1gK-bx-"
      },
      "source": [
        "RandomResizedCrop(224)는 해당 이미지 중앙을 기준으로 224*224 크기로 이미지를 잘라내어 사이즈를 변경하는 것을 의미.\n",
        "\n",
        "맨 아래 줄은 이미지 데이터를 불러오면서 기존에 정의한 data_transforms의 학습 데이터셋에 이용되는 전처리 과정, 검증 데이터셋에 이용되는 전처리 과정을 각각 적용하는 것을 의미. 이때 학습 데이터셋과 검증 데이터셋에 각각 적용하기 위하여 Dictionary 구조를 사용.\n"
      ]
    },
    {
      "cell_type": "code",
      "metadata": {
        "colab": {
          "base_uri": "https://localhost:8080/"
        },
        "id": "oOu8bB-Z1hAR",
        "outputId": "992d78ee-8cad-4e0e-8b69-2142a35f4910"
      },
      "source": [
        "'''4. 데이터 확인'''\n",
        "\n",
        "for (X_train, Y_train) in dataloaders['train']:\n",
        "  print('X_train:', X_train.size(), 'type:', X_train.type())\n",
        "  print('Y_train:', Y_train.size(), 'type:', Y_train.type())  "
      ],
      "execution_count": 28,
      "outputs": [
        {
          "output_type": "stream",
          "text": [
            "X_train: torch.Size([32, 3, 224, 224]) type: torch.FloatTensor\n",
            "Y_train: torch.Size([32]) type: torch.LongTensor\n",
            "X_train: torch.Size([32, 3, 224, 224]) type: torch.FloatTensor\n",
            "Y_train: torch.Size([32]) type: torch.LongTensor\n",
            "X_train: torch.Size([32, 3, 224, 224]) type: torch.FloatTensor\n",
            "Y_train: torch.Size([32]) type: torch.LongTensor\n",
            "X_train: torch.Size([32, 3, 224, 224]) type: torch.FloatTensor\n",
            "Y_train: torch.Size([32]) type: torch.LongTensor\n",
            "X_train: torch.Size([32, 3, 224, 224]) type: torch.FloatTensor\n",
            "Y_train: torch.Size([32]) type: torch.LongTensor\n",
            "X_train: torch.Size([32, 3, 224, 224]) type: torch.FloatTensor\n",
            "Y_train: torch.Size([32]) type: torch.LongTensor\n",
            "X_train: torch.Size([32, 3, 224, 224]) type: torch.FloatTensor\n",
            "Y_train: torch.Size([32]) type: torch.LongTensor\n",
            "X_train: torch.Size([32, 3, 224, 224]) type: torch.FloatTensor\n",
            "Y_train: torch.Size([32]) type: torch.LongTensor\n",
            "X_train: torch.Size([32, 3, 224, 224]) type: torch.FloatTensor\n",
            "Y_train: torch.Size([32]) type: torch.LongTensor\n",
            "X_train: torch.Size([32, 3, 224, 224]) type: torch.FloatTensor\n",
            "Y_train: torch.Size([32]) type: torch.LongTensor\n",
            "X_train: torch.Size([32, 3, 224, 224]) type: torch.FloatTensor\n",
            "Y_train: torch.Size([32]) type: torch.LongTensor\n",
            "X_train: torch.Size([32, 3, 224, 224]) type: torch.FloatTensor\n",
            "Y_train: torch.Size([32]) type: torch.LongTensor\n",
            "X_train: torch.Size([13, 3, 224, 224]) type: torch.FloatTensor\n",
            "Y_train: torch.Size([13]) type: torch.LongTensor\n"
          ],
          "name": "stdout"
        }
      ]
    },
    {
      "cell_type": "code",
      "metadata": {
        "id": "QY0qhRbo_t5e",
        "colab": {
          "base_uri": "https://localhost:8080/",
          "height": 274
        },
        "outputId": "1b16b299-1de5-46d7-e90d-7437ed94a318"
      },
      "source": [
        "pltsize=1\n",
        "plt.figure(figsize=(10*pltsize,pltsize))\n",
        "for i in range(10):\n",
        "  plt.subplot(1,10,i+1)\n",
        "  plt.axis('off')\n",
        "  plt.imshow(np.transpose(X_train[i],(1,2,0)))\n",
        "  plt.title('Class:'+str(Y_train[i].item()))"
      ],
      "execution_count": 29,
      "outputs": [
        {
          "output_type": "stream",
          "text": [
            "Clipping input data to the valid range for imshow with RGB data ([0..1] for floats or [0..255] for integers).\n",
            "Clipping input data to the valid range for imshow with RGB data ([0..1] for floats or [0..255] for integers).\n",
            "Clipping input data to the valid range for imshow with RGB data ([0..1] for floats or [0..255] for integers).\n",
            "Clipping input data to the valid range for imshow with RGB data ([0..1] for floats or [0..255] for integers).\n",
            "Clipping input data to the valid range for imshow with RGB data ([0..1] for floats or [0..255] for integers).\n",
            "Clipping input data to the valid range for imshow with RGB data ([0..1] for floats or [0..255] for integers).\n",
            "Clipping input data to the valid range for imshow with RGB data ([0..1] for floats or [0..255] for integers).\n",
            "Clipping input data to the valid range for imshow with RGB data ([0..1] for floats or [0..255] for integers).\n",
            "Clipping input data to the valid range for imshow with RGB data ([0..1] for floats or [0..255] for integers).\n",
            "Clipping input data to the valid range for imshow with RGB data ([0..1] for floats or [0..255] for integers).\n"
          ],
          "name": "stderr"
        },
        {
          "output_type": "display_data",
          "data": {
            "image/png": "[encoded data removed]",
            "text/plain": [
              "<Figure size 720x72 with 10 Axes>"
            ]
          },
          "metadata": {
            "tags": [],
            "needs_background": "light"
          }
        }
      ]
    },
    {
      "cell_type": "code",
      "metadata": {
        "id": "0D0xFNyK_7-1"
      },
      "source": [
        "'''5. 불러온 특정 모델에 대해 학습을 진행하며 학습 데이터에 대한 모델 성능을 확인하는 함수 정의'''\n",
        "def train(model, train_loader, optimizer, log_interval):\n",
        "  model.train()\n",
        "  for batch_idx,(image,label) in enumerate(train_loader):\n",
        "    image=image.to(DEVICE)\n",
        "    label=label.to(DEVICE)\n",
        "    optimizer.zero_grad()\n",
        "    output=model(image)\n",
        "    loss=criterion(output,label)\n",
        "    loss.backward()\n",
        "    optimizer.step()\n",
        "\n",
        "    if batch_idx % log_interval==0:\n",
        "      print(\"Train Epoch:{}[{}/{}({:.0f}%)]\\tTraint Loss: {:.6f}\".format(Epoch,batch_idx*len(image), len(train_loader.dataset),100.*batch_idx/len(train_loader),loss.item()))\n",
        "    "
      ],
      "execution_count": 30,
      "outputs": []
    },
    {
      "cell_type": "code",
      "metadata": {
        "id": "q_qaRsBLPq2D"
      },
      "source": [
        "'''6. 학습 과정 속에서 Test 데이터에 대한 모델 성능 확인하는 함수 정의'''\n",
        "\n",
        "def evaluate(model, test_loader):\n",
        "  model.eval()\n",
        "  test_loss=0\n",
        "  correct=0\n",
        "\n",
        "  with torch.no_grad():\n",
        "    for image, label in test_loader:\n",
        "      image=image.to(DEVICE)\n",
        "      label=label.to(DEVICE)\n",
        "      output=model(image)\n",
        "      test_loss+=criterion(output,label).item()\n",
        "      prediction=output.max(1,keepdim=True)[1]\n",
        "      correct +=prediction.eq(label.view_as(prediction)).sum().item()\n",
        "\n",
        "  test_loss/=len(test_loader.dataset)\n",
        "  test_accuracy=100.*correct/len(test_loader.dataset)\n",
        "  return test_loss, test_accuracy"
      ],
      "execution_count": 31,
      "outputs": []
    },
    {
      "cell_type": "code",
      "metadata": {
        "id": "QhBolpRh8jw7"
      },
      "source": [
        "'''7. PyTorch 내에서 제공하는 미리 학습되지 않은 ResNet18 모델을 볼러온 후 Output의 크기 설정'''\n",
        "\n",
        "import torchvision.models as models\n",
        "model=models.resnet18(pretrained=False).cuda()\n",
        "num_ftrs=model.fc.in_features\n",
        "model.fc=nn.Linear(num_ftrs,2)\n",
        "model=model.cuda()"
      ],
      "execution_count": 32,
      "outputs": []
    },
    {
      "cell_type": "markdown",
      "metadata": {
        "id": "V8AFrifvEnud"
      },
      "source": [
        "torchvision내에 있는 models.resnet18을 불러온다. 이 모델에 대해 Fully Connected Layer를 구성하고 있는 부분에 접근. 이때 in_features는 resnet18 모델의 Fully Connected Layer의 input에 해당하는 노드 수를 num_ftrs로 저장. 이때 output은 벌과 개미 이미지 2개이기 때문에 2로 지정"
      ]
    },
    {
      "cell_type": "code",
      "metadata": {
        "colab": {
          "base_uri": "https://localhost:8080/"
        },
        "id": "jWSr7K80F0h6",
        "outputId": "6ee15973-8891-4c5f-aed3-5a662d7f27fd"
      },
      "source": [
        "'''8. Optimizer, Objective Function 설정'''\n",
        "\n",
        "optimizer=torch.optim.Adam(model.parameters(),lr=0.0001)\n",
        "criterion=nn.CrossEntropyLoss()\n",
        "\n",
        "print(model)"
      ],
      "execution_count": 33,
      "outputs": [
        {
          "output_type": "stream",
          "text": [
            "ResNet(\n",
            "  (conv1): Conv2d(3, 64, kernel_size=(7, 7), stride=(2, 2), padding=(3, 3), bias=False)\n",
            "  (bn1): BatchNorm2d(64, eps=1e-05, momentum=0.1, affine=True, track_running_stats=True)\n",
            "  (relu): ReLU(inplace=True)\n",
            "  (maxpool): MaxPool2d(kernel_size=3, stride=2, padding=1, dilation=1, ceil_mode=False)\n",
            "  (layer1): Sequential(\n",
            "    (0): BasicBlock(\n",
            "      (conv1): Conv2d(64, 64, kernel_size=(3, 3), stride=(1, 1), padding=(1, 1), bias=False)\n",
            "      (bn1): BatchNorm2d(64, eps=1e-05, momentum=0.1, affine=True, track_running_stats=True)\n",
            "      (relu): ReLU(inplace=True)\n",
            "      (conv2): Conv2d(64, 64, kernel_size=(3, 3), stride=(1, 1), padding=(1, 1), bias=False)\n",
            "      (bn2): BatchNorm2d(64, eps=1e-05, momentum=0.1, affine=True, track_running_stats=True)\n",
            "    )\n",
            "    (1): BasicBlock(\n",
            "      (conv1): Conv2d(64, 64, kernel_size=(3, 3), stride=(1, 1), padding=(1, 1), bias=False)\n",
            "      (bn1): BatchNorm2d(64, eps=1e-05, momentum=0.1, affine=True, track_running_stats=True)\n",
            "      (relu): ReLU(inplace=True)\n",
            "      (conv2): Conv2d(64, 64, kernel_size=(3, 3), stride=(1, 1), padding=(1, 1), bias=False)\n",
            "      (bn2): BatchNorm2d(64, eps=1e-05, momentum=0.1, affine=True, track_running_stats=True)\n",
            "    )\n",
            "  )\n",
            "  (layer2): Sequential(\n",
            "    (0): BasicBlock(\n",
            "      (conv1): Conv2d(64, 128, kernel_size=(3, 3), stride=(2, 2), padding=(1, 1), bias=False)\n",
            "      (bn1): BatchNorm2d(128, eps=1e-05, momentum=0.1, affine=True, track_running_stats=True)\n",
            "      (relu): ReLU(inplace=True)\n",
            "      (conv2): Conv2d(128, 128, kernel_size=(3, 3), stride=(1, 1), padding=(1, 1), bias=False)\n",
            "      (bn2): BatchNorm2d(128, eps=1e-05, momentum=0.1, affine=True, track_running_stats=True)\n",
            "      (downsample): Sequential(\n",
            "        (0): Conv2d(64, 128, kernel_size=(1, 1), stride=(2, 2), bias=False)\n",
            "        (1): BatchNorm2d(128, eps=1e-05, momentum=0.1, affine=True, track_running_stats=True)\n",
            "      )\n",
            "    )\n",
            "    (1): BasicBlock(\n",
            "      (conv1): Conv2d(128, 128, kernel_size=(3, 3), stride=(1, 1), padding=(1, 1), bias=False)\n",
            "      (bn1): BatchNorm2d(128, eps=1e-05, momentum=0.1, affine=True, track_running_stats=True)\n",
            "      (relu): ReLU(inplace=True)\n",
            "      (conv2): Conv2d(128, 128, kernel_size=(3, 3), stride=(1, 1), padding=(1, 1), bias=False)\n",
            "      (bn2): BatchNorm2d(128, eps=1e-05, momentum=0.1, affine=True, track_running_stats=True)\n",
            "    )\n",
            "  )\n",
            "  (layer3): Sequential(\n",
            "    (0): BasicBlock(\n",
            "      (conv1): Conv2d(128, 256, kernel_size=(3, 3), stride=(2, 2), padding=(1, 1), bias=False)\n",
            "      (bn1): BatchNorm2d(256, eps=1e-05, momentum=0.1, affine=True, track_running_stats=True)\n",
            "      (relu): ReLU(inplace=True)\n",
            "      (conv2): Conv2d(256, 256, kernel_size=(3, 3), stride=(1, 1), padding=(1, 1), bias=False)\n",
            "      (bn2): BatchNorm2d(256, eps=1e-05, momentum=0.1, affine=True, track_running_stats=True)\n",
            "      (downsample): Sequential(\n",
            "        (0): Conv2d(128, 256, kernel_size=(1, 1), stride=(2, 2), bias=False)\n",
            "        (1): BatchNorm2d(256, eps=1e-05, momentum=0.1, affine=True, track_running_stats=True)\n",
            "      )\n",
            "    )\n",
            "    (1): BasicBlock(\n",
            "      (conv1): Conv2d(256, 256, kernel_size=(3, 3), stride=(1, 1), padding=(1, 1), bias=False)\n",
            "      (bn1): BatchNorm2d(256, eps=1e-05, momentum=0.1, affine=True, track_running_stats=True)\n",
            "      (relu): ReLU(inplace=True)\n",
            "      (conv2): Conv2d(256, 256, kernel_size=(3, 3), stride=(1, 1), padding=(1, 1), bias=False)\n",
            "      (bn2): BatchNorm2d(256, eps=1e-05, momentum=0.1, affine=True, track_running_stats=True)\n",
            "    )\n",
            "  )\n",
            "  (layer4): Sequential(\n",
            "    (0): BasicBlock(\n",
            "      (conv1): Conv2d(256, 512, kernel_size=(3, 3), stride=(2, 2), padding=(1, 1), bias=False)\n",
            "      (bn1): BatchNorm2d(512, eps=1e-05, momentum=0.1, affine=True, track_running_stats=True)\n",
            "      (relu): ReLU(inplace=True)\n",
            "      (conv2): Conv2d(512, 512, kernel_size=(3, 3), stride=(1, 1), padding=(1, 1), bias=False)\n",
            "      (bn2): BatchNorm2d(512, eps=1e-05, momentum=0.1, affine=True, track_running_stats=True)\n",
            "      (downsample): Sequential(\n",
            "        (0): Conv2d(256, 512, kernel_size=(1, 1), stride=(2, 2), bias=False)\n",
            "        (1): BatchNorm2d(512, eps=1e-05, momentum=0.1, affine=True, track_running_stats=True)\n",
            "      )\n",
            "    )\n",
            "    (1): BasicBlock(\n",
            "      (conv1): Conv2d(512, 512, kernel_size=(3, 3), stride=(1, 1), padding=(1, 1), bias=False)\n",
            "      (bn1): BatchNorm2d(512, eps=1e-05, momentum=0.1, affine=True, track_running_stats=True)\n",
            "      (relu): ReLU(inplace=True)\n",
            "      (conv2): Conv2d(512, 512, kernel_size=(3, 3), stride=(1, 1), padding=(1, 1), bias=False)\n",
            "      (bn2): BatchNorm2d(512, eps=1e-05, momentum=0.1, affine=True, track_running_stats=True)\n",
            "    )\n",
            "  )\n",
            "  (avgpool): AdaptiveAvgPool2d(output_size=(1, 1))\n",
            "  (fc): Linear(in_features=512, out_features=2, bias=True)\n",
            ")\n"
          ],
          "name": "stdout"
        }
      ]
    },
    {
      "cell_type": "code",
      "metadata": {
        "colab": {
          "base_uri": "https://localhost:8080/"
        },
        "id": "VVqFPwBvGDok",
        "outputId": "45e8a09d-64e5-4962-b363-00accca2b0b4"
      },
      "source": [
        "'''9. 미리 학습되지 않은 ResNet18 학습 실행 후 결과 확인'''\n",
        "\n",
        "for Epoch in range(1, EPOCHS+1):\n",
        "  train(model, dataloaders[\"train\"],optimizer,log_interval=5)\n",
        "  test_loss, test_accuracy=evaluate(model,dataloaders[\"val\"])\n",
        "  print(\"\\n[EPOCH:{}],\\tTest Loss:{:.4f}, \\tTest Accuracy:{:.2f}%\\n\".format(Epoch,test_loss,test_accuracy))"
      ],
      "execution_count": 34,
      "outputs": [
        {
          "output_type": "stream",
          "text": [
            "Train Epoch:1[0/397(0%)]\tTraint Loss: 0.746408\n",
            "Train Epoch:1[160/397(38%)]\tTraint Loss: 0.793705\n",
            "Train Epoch:1[320/397(77%)]\tTraint Loss: 0.694827\n",
            "\n",
            "[EPOCH:1],\tTest Loss:0.0286, \tTest Accuracy:38.54%\n",
            "\n",
            "Train Epoch:2[0/397(0%)]\tTraint Loss: 0.638515\n",
            "Train Epoch:2[160/397(38%)]\tTraint Loss: 0.661966\n",
            "Train Epoch:2[320/397(77%)]\tTraint Loss: 0.731717\n",
            "\n",
            "[EPOCH:2],\tTest Loss:0.0251, \tTest Accuracy:61.21%\n",
            "\n",
            "Train Epoch:3[0/397(0%)]\tTraint Loss: 0.621762\n",
            "Train Epoch:3[160/397(38%)]\tTraint Loss: 0.734293\n",
            "Train Epoch:3[320/397(77%)]\tTraint Loss: 0.672936\n",
            "\n",
            "[EPOCH:3],\tTest Loss:0.0220, \tTest Accuracy:61.71%\n",
            "\n",
            "Train Epoch:4[0/397(0%)]\tTraint Loss: 0.646585\n",
            "Train Epoch:4[160/397(38%)]\tTraint Loss: 0.595757\n",
            "Train Epoch:4[320/397(77%)]\tTraint Loss: 0.693303\n",
            "\n",
            "[EPOCH:4],\tTest Loss:0.0210, \tTest Accuracy:64.48%\n",
            "\n",
            "Train Epoch:5[0/397(0%)]\tTraint Loss: 0.723764\n",
            "Train Epoch:5[160/397(38%)]\tTraint Loss: 0.532669\n",
            "Train Epoch:5[320/397(77%)]\tTraint Loss: 0.592906\n",
            "\n",
            "[EPOCH:5],\tTest Loss:0.0207, \tTest Accuracy:63.98%\n",
            "\n",
            "Train Epoch:6[0/397(0%)]\tTraint Loss: 0.654743\n",
            "Train Epoch:6[160/397(38%)]\tTraint Loss: 0.661027\n",
            "Train Epoch:6[320/397(77%)]\tTraint Loss: 0.743798\n",
            "\n",
            "[EPOCH:6],\tTest Loss:0.0228, \tTest Accuracy:61.46%\n",
            "\n",
            "Train Epoch:7[0/397(0%)]\tTraint Loss: 0.602964\n",
            "Train Epoch:7[160/397(38%)]\tTraint Loss: 0.680964\n",
            "Train Epoch:7[320/397(77%)]\tTraint Loss: 0.686007\n",
            "\n",
            "[EPOCH:7],\tTest Loss:0.0207, \tTest Accuracy:64.23%\n",
            "\n",
            "Train Epoch:8[0/397(0%)]\tTraint Loss: 0.633259\n",
            "Train Epoch:8[160/397(38%)]\tTraint Loss: 0.573716\n",
            "Train Epoch:8[320/397(77%)]\tTraint Loss: 0.603246\n",
            "\n",
            "[EPOCH:8],\tTest Loss:0.0197, \tTest Accuracy:67.00%\n",
            "\n",
            "Train Epoch:9[0/397(0%)]\tTraint Loss: 0.637994\n",
            "Train Epoch:9[160/397(38%)]\tTraint Loss: 0.723377\n",
            "Train Epoch:9[320/397(77%)]\tTraint Loss: 0.577720\n",
            "\n",
            "[EPOCH:9],\tTest Loss:0.0200, \tTest Accuracy:65.74%\n",
            "\n",
            "Train Epoch:10[0/397(0%)]\tTraint Loss: 0.547676\n",
            "Train Epoch:10[160/397(38%)]\tTraint Loss: 0.722639\n",
            "Train Epoch:10[320/397(77%)]\tTraint Loss: 0.612876\n",
            "\n",
            "[EPOCH:10],\tTest Loss:0.0199, \tTest Accuracy:67.25%\n",
            "\n"
          ],
          "name": "stdout"
        }
      ]
    }
  ]
}