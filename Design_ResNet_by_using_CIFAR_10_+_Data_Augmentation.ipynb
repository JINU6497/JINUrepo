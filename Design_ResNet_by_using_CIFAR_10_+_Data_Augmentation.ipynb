{
  "nbformat": 4,
  "nbformat_minor": 0,
  "metadata": {
    "colab": {
      "name": "Design CNN by using CIFAR-10 + Data Augmentation.ipynb",
      "provenance": [],
      "collapsed_sections": [],
      "authorship_tag": "ABX9TyORSTRMUzWPhlORCwrMLYLp",
      "include_colab_link": true
    },
    "kernelspec": {
      "name": "python3",
      "display_name": "Python 3"
    },
    "language_info": {
      "name": "python"
    },
    "widgets": {
      "application/vnd.jupyter.widget-state+json": {
        "27f67571692145dc9fdb4a3679fa5e86": {
          "model_module": "@jupyter-widgets/controls",
          "model_name": "HBoxModel",
          "state": {
            "_view_name": "HBoxView",
            "_dom_classes": [],
            "_model_name": "HBoxModel",
            "_view_module": "@jupyter-widgets/controls",
            "_model_module_version": "1.5.0",
            "_view_count": null,
            "_view_module_version": "1.5.0",
            "box_style": "",
            "layout": "IPY_MODEL_6238706b15d44342acd3096c2c12f30d",
            "_model_module": "@jupyter-widgets/controls",
            "children": [
              "IPY_MODEL_28dd28413f504ccebb2d70ec3ceb0aae",
              "IPY_MODEL_d29984d6421e49fb89b2df97fc0930b3"
            ]
          }
        },
        "6238706b15d44342acd3096c2c12f30d": {
          "model_module": "@jupyter-widgets/base",
          "model_name": "LayoutModel",
          "state": {
            "_view_name": "LayoutView",
            "grid_template_rows": null,
            "right": null,
            "justify_content": null,
            "_view_module": "@jupyter-widgets/base",
            "overflow": null,
            "_model_module_version": "1.2.0",
            "_view_count": null,
            "flex_flow": null,
            "width": null,
            "min_width": null,
            "border": null,
            "align_items": null,
            "bottom": null,
            "_model_module": "@jupyter-widgets/base",
            "top": null,
            "grid_column": null,
            "overflow_y": null,
            "overflow_x": null,
            "grid_auto_flow": null,
            "grid_area": null,
            "grid_template_columns": null,
            "flex": null,
            "_model_name": "LayoutModel",
            "justify_items": null,
            "grid_row": null,
            "max_height": null,
            "align_content": null,
            "visibility": null,
            "align_self": null,
            "height": null,
            "min_height": null,
            "padding": null,
            "grid_auto_rows": null,
            "grid_gap": null,
            "max_width": null,
            "order": null,
            "_view_module_version": "1.2.0",
            "grid_template_areas": null,
            "object_position": null,
            "object_fit": null,
            "grid_auto_columns": null,
            "margin": null,
            "display": null,
            "left": null
          }
        },
        "28dd28413f504ccebb2d70ec3ceb0aae": {
          "model_module": "@jupyter-widgets/controls",
          "model_name": "FloatProgressModel",
          "state": {
            "_view_name": "ProgressView",
            "style": "IPY_MODEL_68c9e6a9a8a7413091ddc91d42d8b66b",
            "_dom_classes": [],
            "description": "",
            "_model_name": "FloatProgressModel",
            "bar_style": "success",
            "max": 170498071,
            "_view_module": "@jupyter-widgets/controls",
            "_model_module_version": "1.5.0",
            "value": 170498071,
            "_view_count": null,
            "_view_module_version": "1.5.0",
            "orientation": "horizontal",
            "min": 0,
            "description_tooltip": null,
            "_model_module": "@jupyter-widgets/controls",
            "layout": "IPY_MODEL_46ed3a3a436b484aa4c06146a7225b95"
          }
        },
        "d29984d6421e49fb89b2df97fc0930b3": {
          "model_module": "@jupyter-widgets/controls",
          "model_name": "HTMLModel",
          "state": {
            "_view_name": "HTMLView",
            "style": "IPY_MODEL_7663954fb62a42deac8c50424ffd2c5f",
            "_dom_classes": [],
            "description": "",
            "_model_name": "HTMLModel",
            "placeholder": "​",
            "_view_module": "@jupyter-widgets/controls",
            "_model_module_version": "1.5.0",
            "value": " 170499072/? [00:08&lt;00:00, 21310329.46it/s]",
            "_view_count": null,
            "_view_module_version": "1.5.0",
            "description_tooltip": null,
            "_model_module": "@jupyter-widgets/controls",
            "layout": "IPY_MODEL_9c2f0e1973f14fb28f58f8ec6012cab9"
          }
        },
        "68c9e6a9a8a7413091ddc91d42d8b66b": {
          "model_module": "@jupyter-widgets/controls",
          "model_name": "ProgressStyleModel",
          "state": {
            "_view_name": "StyleView",
            "_model_name": "ProgressStyleModel",
            "description_width": "initial",
            "_view_module": "@jupyter-widgets/base",
            "_model_module_version": "1.5.0",
            "_view_count": null,
            "_view_module_version": "1.2.0",
            "bar_color": null,
            "_model_module": "@jupyter-widgets/controls"
          }
        },
        "46ed3a3a436b484aa4c06146a7225b95": {
          "model_module": "@jupyter-widgets/base",
          "model_name": "LayoutModel",
          "state": {
            "_view_name": "LayoutView",
            "grid_template_rows": null,
            "right": null,
            "justify_content": null,
            "_view_module": "@jupyter-widgets/base",
            "overflow": null,
            "_model_module_version": "1.2.0",
            "_view_count": null,
            "flex_flow": null,
            "width": null,
            "min_width": null,
            "border": null,
            "align_items": null,
            "bottom": null,
            "_model_module": "@jupyter-widgets/base",
            "top": null,
            "grid_column": null,
            "overflow_y": null,
            "overflow_x": null,
            "grid_auto_flow": null,
            "grid_area": null,
            "grid_template_columns": null,
            "flex": null,
            "_model_name": "LayoutModel",
            "justify_items": null,
            "grid_row": null,
            "max_height": null,
            "align_content": null,
            "visibility": null,
            "align_self": null,
            "height": null,
            "min_height": null,
            "padding": null,
            "grid_auto_rows": null,
            "grid_gap": null,
            "max_width": null,
            "order": null,
            "_view_module_version": "1.2.0",
            "grid_template_areas": null,
            "object_position": null,
            "object_fit": null,
            "grid_auto_columns": null,
            "margin": null,
            "display": null,
            "left": null
          }
        },
        "7663954fb62a42deac8c50424ffd2c5f": {
          "model_module": "@jupyter-widgets/controls",
          "model_name": "DescriptionStyleModel",
          "state": {
            "_view_name": "StyleView",
            "_model_name": "DescriptionStyleModel",
            "description_width": "",
            "_view_module": "@jupyter-widgets/base",
            "_model_module_version": "1.5.0",
            "_view_count": null,
            "_view_module_version": "1.2.0",
            "_model_module": "@jupyter-widgets/controls"
          }
        },
        "9c2f0e1973f14fb28f58f8ec6012cab9": {
          "model_module": "@jupyter-widgets/base",
          "model_name": "LayoutModel",
          "state": {
            "_view_name": "LayoutView",
            "grid_template_rows": null,
            "right": null,
            "justify_content": null,
            "_view_module": "@jupyter-widgets/base",
            "overflow": null,
            "_model_module_version": "1.2.0",
            "_view_count": null,
            "flex_flow": null,
            "width": null,
            "min_width": null,
            "border": null,
            "align_items": null,
            "bottom": null,
            "_model_module": "@jupyter-widgets/base",
            "top": null,
            "grid_column": null,
            "overflow_y": null,
            "overflow_x": null,
            "grid_auto_flow": null,
            "grid_area": null,
            "grid_template_columns": null,
            "flex": null,
            "_model_name": "LayoutModel",
            "justify_items": null,
            "grid_row": null,
            "max_height": null,
            "align_content": null,
            "visibility": null,
            "align_self": null,
            "height": null,
            "min_height": null,
            "padding": null,
            "grid_auto_rows": null,
            "grid_gap": null,
            "max_width": null,
            "order": null,
            "_view_module_version": "1.2.0",
            "grid_template_areas": null,
            "object_position": null,
            "object_fit": null,
            "grid_auto_columns": null,
            "margin": null,
            "display": null,
            "left": null
          }
        }
      }
    }
  },
  "cells": [
    {
      "cell_type": "markdown",
      "metadata": {
        "id": "view-in-github",
        "colab_type": "text"
      },
      "source": [
        "<a href=\"https://colab.research.google.com/github/JINU6497/JINUrepo/blob/master/Design_ResNet_by_using_CIFAR_10_%2B_Data_Augmentation.ipynb\" target=\"_parent\"><img src=\"https://colab.research.google.com/assets/colab-badge.svg\" alt=\"Open In Colab\"/></a>"
      ]
    },
    {
      "cell_type": "code",
      "metadata": {
        "id": "qiSJDlgQa4PG"
      },
      "source": [
        "'''1. Module Import'''\n",
        "import numpy as np  # 선형대수 관련 모듈\n",
        "import matplotlib.pyplot as plt  # 결과 산출물을 시각화하는 모듈\n",
        " \n",
        "import torch\n",
        "import torch.nn as nn  # 인공 신경망 모델 설계에 필요한 함수들 모아 놓은 모듈 \n",
        "import torch.nn.functional as F # torch.nn 중에서도 자주 쓰이는 functional 함수들을 따로 F로 지정 \n",
        "from torchvision import transforms, datasets  # Computer vision 분야에서 자주 이용되는 torchvision 내의 함수 임포트"
      ],
      "execution_count": 1,
      "outputs": []
    },
    {
      "cell_type": "code",
      "metadata": {
        "colab": {
          "base_uri": "https://localhost:8080/"
        },
        "id": "eO5fvbkJ45En",
        "outputId": "96e9225c-3cfe-49a1-a851-c0f57d079000"
      },
      "source": [
        "'''2. 딥러닝 모델 설계에 활용하는 장비 확인'''\n",
        "if torch.cuda.is_available():\n",
        "  DEVICE=torch.device('cuda')\n",
        "else:\n",
        "  DEVICE=torch.device('cpu')\n",
        " \n",
        "print(\"Using pytorch version:\",torch.__version__,'Device:',DEVICE)"
      ],
      "execution_count": 2,
      "outputs": [
        {
          "output_type": "stream",
          "text": [
            "Using pytorch version: 1.9.0+cu102 Device: cpu\n"
          ],
          "name": "stdout"
        }
      ]
    },
    {
      "cell_type": "code",
      "metadata": {
        "id": "yiem0Cuc48Q7"
      },
      "source": [
        "BATCH_SIZE = 32\n",
        "EPOCHS = 10"
      ],
      "execution_count": 3,
      "outputs": []
    },
    {
      "cell_type": "code",
      "metadata": {
        "colab": {
          "base_uri": "https://localhost:8080/",
          "height": 103,
          "referenced_widgets": [
            "27f67571692145dc9fdb4a3679fa5e86",
            "6238706b15d44342acd3096c2c12f30d",
            "28dd28413f504ccebb2d70ec3ceb0aae",
            "d29984d6421e49fb89b2df97fc0930b3",
            "68c9e6a9a8a7413091ddc91d42d8b66b",
            "46ed3a3a436b484aa4c06146a7225b95",
            "7663954fb62a42deac8c50424ffd2c5f",
            "9c2f0e1973f14fb28f58f8ec6012cab9"
          ]
        },
        "id": "k6ZDbdtW49-D",
        "outputId": "2bd59ef4-a619-4fc9-c421-38aa2b170b9a"
      },
      "source": [
        "'''3. Data Augmentation 적용한 CIFAR-10 데이터 다운로드(Train과 Test set 분리)'''\n",
        "train_dataset=datasets.CIFAR10(root=\"../data/Fashion,MNIST\",train=True,download=True,\n",
        "                               transform=transforms.Compose([transforms.RandomHorizontalFlip(),\n",
        "                                                             transforms.ToTensor(),\n",
        "                                                             transforms.Normalize((0.5,0.5,0.5),\n",
        "                                                             (0.5,0.5,0.5))]))\n",
        "test_dataset=datasets.CIFAR10(root=\"../data/Fashion,MNIST\",train=False,\n",
        "                               transform=transforms.Compose([transforms.RandomHorizontalFlip(),\n",
        "                                                             transforms.ToTensor(),\n",
        "                                                             transforms.Normalize((0.5,0.5,0.5),\n",
        "                                                             (0.5,0.5,0.5))]))\n",
        " \n",
        "train_loader=torch.utils.data.DataLoader(dataset=train_dataset,batch_size=BATCH_SIZE,shuffle=True)\n",
        "test_loader=torch.utils.data.DataLoader(dataset=test_dataset,batch_size=BATCH_SIZE,shuffle=False)"
      ],
      "execution_count": 4,
      "outputs": [
        {
          "output_type": "stream",
          "text": [
            "Downloading https://www.cs.toronto.edu/~kriz/cifar-10-python.tar.gz to ../data/Fashion,MNIST/cifar-10-python.tar.gz\n"
          ],
          "name": "stdout"
        },
        {
          "output_type": "display_data",
          "data": {
            "application/vnd.jupyter.widget-view+json": {
              "model_id": "27f67571692145dc9fdb4a3679fa5e86",
              "version_minor": 0,
              "version_major": 2
            },
            "text/plain": [
              "HBox(children=(FloatProgress(value=0.0, max=170498071.0), HTML(value='')))"
            ]
          },
          "metadata": {
            "tags": []
          }
        },
        {
          "output_type": "stream",
          "text": [
            "\n",
            "Extracting ../data/Fashion,MNIST/cifar-10-python.tar.gz to ../data/Fashion,MNIST\n"
          ],
          "name": "stdout"
        }
      ]
    },
    {
      "cell_type": "markdown",
      "metadata": {
        "id": "BgoaktPURmS8"
      },
      "source": [
        "transforms.Compose()는 불러오는 이미지 데이터 전처리 및 Augmentation을 다양하게 적용할 때 이용하는 method. 즉, Compose의 괄호 안에 있는 처리 과정을 거친 데이터를 불러오는 것을 의미.\n",
        "RandomHorizontalFlip은 50%확률로 좌우 반전하는 것을 의미\n",
        "Normalize는 ToTensor()로 전환된 이미지에 대해 또 다른 정규화를 진행하는 것을 의미. 정규화를 진행할 때 평균과 표준편차가 필요한데, RGB순으로 평균을 0.5씩 적용하고, 다음 괄호에서는 표준편차를 0.5씩 적용하는 것"
      ]
    },
    {
      "cell_type": "code",
      "metadata": {
        "colab": {
          "base_uri": "https://localhost:8080/"
        },
        "id": "TeNyspGA5U5L",
        "outputId": "2d375eda-5299-4956-a584-48f704f0ac8b"
      },
      "source": [
        "'''4. 데이터 확인'''\n",
        "for (X_train, Y_train) in train_loader:\n",
        "  print('X_train:',X_train.size(),'type:',X_train.type())\n",
        "  print('Y_train:',Y_train.size(),'type:',Y_train.type())\n",
        "  break"
      ],
      "execution_count": 5,
      "outputs": [
        {
          "output_type": "stream",
          "text": [
            "X_train: torch.Size([32, 3, 32, 32]) type: torch.FloatTensor\n",
            "Y_train: torch.Size([32]) type: torch.LongTensor\n"
          ],
          "name": "stdout"
        }
      ]
    },
    {
      "cell_type": "code",
      "metadata": {
        "colab": {
          "base_uri": "https://localhost:8080/",
          "height": 274
        },
        "id": "UFvzEC3y5a6E",
        "outputId": "31a91df9-83d9-4538-d498-dbd84e4b79fd"
      },
      "source": [
        "pltsize=1\n",
        "plt.figure(figsize=(10*pltsize,pltsize))\n",
        "for i in range(10):\n",
        "  plt.subplot(1,10,i+1)\n",
        "  plt.axis('off')\n",
        "  plt.imshow(np.transpose(X_train[i],(1,2,0)))\n",
        "  plt.title('Class:'+str(Y_train[i].item()))"
      ],
      "execution_count": 6,
      "outputs": [
        {
          "output_type": "stream",
          "text": [
            "Clipping input data to the valid range for imshow with RGB data ([0..1] for floats or [0..255] for integers).\n",
            "Clipping input data to the valid range for imshow with RGB data ([0..1] for floats or [0..255] for integers).\n",
            "Clipping input data to the valid range for imshow with RGB data ([0..1] for floats or [0..255] for integers).\n",
            "Clipping input data to the valid range for imshow with RGB data ([0..1] for floats or [0..255] for integers).\n",
            "Clipping input data to the valid range for imshow with RGB data ([0..1] for floats or [0..255] for integers).\n",
            "Clipping input data to the valid range for imshow with RGB data ([0..1] for floats or [0..255] for integers).\n",
            "Clipping input data to the valid range for imshow with RGB data ([0..1] for floats or [0..255] for integers).\n",
            "Clipping input data to the valid range for imshow with RGB data ([0..1] for floats or [0..255] for integers).\n",
            "Clipping input data to the valid range for imshow with RGB data ([0..1] for floats or [0..255] for integers).\n",
            "Clipping input data to the valid range for imshow with RGB data ([0..1] for floats or [0..255] for integers).\n"
          ],
          "name": "stderr"
        },
        {
          "output_type": "display_data",
          "data": {
            "image/png": "[encoded data removed]",
            "text/plain": [
              "<Figure size 720x72 with 10 Axes>"
            ]
          },
          "metadata": {
            "tags": [],
            "needs_background": "light"
          }
        }
      ]
    },
    {
      "cell_type": "code",
      "metadata": {
        "id": "jRh42qvz5uwI"
      },
      "source": [
        "'''5. Convolutional Neural Network(CNN) 모델 설계하기'''\n",
        "\n",
        "class BasicBlock(nn.Module):\n",
        "  def __init__(self, in_planes, planes, stride=1):\n",
        "    super(BasicBlock, self).__init__()\n",
        "    self.conv1=nn.Conv2d(in_planes,planes,kernel_size=3,stride=stride,padding=1,bias=False)\n",
        "    self.bn1=nn.BatchNorm2d(planes)\n",
        "    self.conv2=nn.Conv2d(planes,planes,kernel_size=3,stride=1,padding=1,bias=False)\n",
        "    self.bn2=nn.BatchNorm2d(planes)\n",
        "\n",
        "    self.shortcut=nn.Sequential()\n",
        "    if stride!=1 or in_planes!=planes:\n",
        "      self.shortcut=nn.Sequential(\n",
        "          nn.Conv2d(in_planes,planes,kernel_size=1,stride=stride,bias=False),\n",
        "          nn.BatchNorm2d(planes))\n",
        "      \n",
        "  def forward(self,x):\n",
        "    out=F.relu(self.bn1(self.conv1(x)))\n",
        "    out=self.bn2(self.conv2(out))\n",
        "    out+=self.shortcut(x)\n",
        "    out=F.relu(out)\n",
        "    return out\n",
        "\n",
        "class ResNet(nn.Module):\n",
        "  def __init__(self, num_classes=10):\n",
        "    super(ResNet,self).__init__()\n",
        "    self.in_planes=16\n",
        "\n",
        "    self.conv1=nn.Conv2d(3,16,kernel_size=3,stride=1,padding=1,bias=False)\n",
        "    self.bn1=nn.BatchNorm2d(16)\n",
        "    self.layer1=self._make_layer(16,2,stride=1)\n",
        "    self.layer2=self._make_layer(32,2,stride=2)\n",
        "    self.layer3=self._make_layer(64,2,stride=2)\n",
        "    self.linear=nn.Linear(64,num_classes)\n",
        "\n",
        "  def _make_layer(self, planes, num_blocks,stride):\n",
        "    strides=[stride]+[1]*(num_blocks-1)\n",
        "    layers=[]\n",
        "    for stride in strides:\n",
        "      layers.append(BasicBlock(self.in_planes,planes,stride))\n",
        "      self.in_planes=planes\n",
        "    return nn.Sequential(*layers)\n",
        "\n",
        "  def forward(self,x):\n",
        "    out=F.relu(self.bn1(self.conv1(x)))\n",
        "    out=self.layer1(out)\n",
        "    out=self.layer2(out)\n",
        "    out=self.layer3(out)\n",
        "    out=F.avg_pool2d(out,8)\n",
        "    out=out.view(out.size(0),-1)\n",
        "    out=self.linear(out)\n",
        "    return out"
      ],
      "execution_count": 48,
      "outputs": []
    },
    {
      "cell_type": "markdown",
      "metadata": {
        "id": "kymDVj_B9z0y"
      },
      "source": [
        "self.conv1=nn.conv2d(in_channels=3, out_channels=8, kernel_size=3, padding=1): \n",
        "\n",
        "in_channel: 이미지에 직접 Convolution 연산을 진행하는 Filter의 크기는 상관 없지만, 채널 수를 이미지의 채널 수와 동일하게 맞춰야 한다. 동일한 위치에 있으며 앞뒤로 존재하는 RGB 픽셀에 대해 동시에 Convolution을 진행해야 하기 때문. 따라서 이미지의 채널 수와 동일하게 채널 수를 3으로 설정.\n",
        "\n",
        "out_channel은 8이므로 해당 Convolution 연산 결과는 Depth가 8인 Feature map이 생성 될 것.\n",
        "\n",
        "kernel_size는 filter의 크기를 설정해주는 부분.\n",
        "\n",
        "log_softmax()를 이용하여 0부터 9까지 총 10가지 경우의 수 중 하나로 분류하는 일을 확률 값 계산.일반적인 softmax가 아닌 log_softmax()를 이용하는 이유는 MLP모델이 Back propagation을 진행할 때 loss 값에 대한 gradient값을 좀 더 원활하게 계산할 수 있기 때문에. log 함수 그래프의 기울기가 부드럽게 변화하는 것을 생각해보면 직관적으로 이해할 수 있다.\n",
        "\n",
        "\n",
        "\n"
      ]
    },
    {
      "cell_type": "code",
      "metadata": {
        "colab": {
          "base_uri": "https://localhost:8080/"
        },
        "id": "W_wTbz99Ha35",
        "outputId": "5c3212d7-8242-49f8-d419-38c0b431751e"
      },
      "source": [
        "'''6. Optimizer, Objective Fundtion 설정'''\n",
        " \n",
        "model=ResNet().to(DEVICE)\n",
        "optimizer = torch.optim.Adam(model.parameters(),lr=0.001)\n",
        "criterion=nn.CrossEntropyLoss()\n",
        " \n",
        "print(model)"
      ],
      "execution_count": 49,
      "outputs": [
        {
          "output_type": "stream",
          "text": [
            "ResNet(\n",
            "  (conv1): Conv2d(3, 16, kernel_size=(3, 3), stride=(1, 1), padding=(1, 1), bias=False)\n",
            "  (bn1): BatchNorm2d(16, eps=1e-05, momentum=0.1, affine=True, track_running_stats=True)\n",
            "  (layer1): Sequential(\n",
            "    (0): BasicBlock(\n",
            "      (conv1): Conv2d(16, 16, kernel_size=(3, 3), stride=(1, 1), padding=(1, 1), bias=False)\n",
            "      (bn1): BatchNorm2d(16, eps=1e-05, momentum=0.1, affine=True, track_running_stats=True)\n",
            "      (conv2): Conv2d(16, 16, kernel_size=(3, 3), stride=(1, 1), padding=(1, 1), bias=False)\n",
            "      (bn2): BatchNorm2d(16, eps=1e-05, momentum=0.1, affine=True, track_running_stats=True)\n",
            "      (shortcut): Sequential()\n",
            "    )\n",
            "    (1): BasicBlock(\n",
            "      (conv1): Conv2d(16, 16, kernel_size=(3, 3), stride=(1, 1), padding=(1, 1), bias=False)\n",
            "      (bn1): BatchNorm2d(16, eps=1e-05, momentum=0.1, affine=True, track_running_stats=True)\n",
            "      (conv2): Conv2d(16, 16, kernel_size=(3, 3), stride=(1, 1), padding=(1, 1), bias=False)\n",
            "      (bn2): BatchNorm2d(16, eps=1e-05, momentum=0.1, affine=True, track_running_stats=True)\n",
            "      (shortcut): Sequential()\n",
            "    )\n",
            "  )\n",
            "  (layer2): Sequential(\n",
            "    (0): BasicBlock(\n",
            "      (conv1): Conv2d(16, 32, kernel_size=(3, 3), stride=(2, 2), padding=(1, 1), bias=False)\n",
            "      (bn1): BatchNorm2d(32, eps=1e-05, momentum=0.1, affine=True, track_running_stats=True)\n",
            "      (conv2): Conv2d(32, 32, kernel_size=(3, 3), stride=(1, 1), padding=(1, 1), bias=False)\n",
            "      (bn2): BatchNorm2d(32, eps=1e-05, momentum=0.1, affine=True, track_running_stats=True)\n",
            "      (shortcut): Sequential(\n",
            "        (0): Conv2d(16, 32, kernel_size=(1, 1), stride=(2, 2), bias=False)\n",
            "        (1): BatchNorm2d(32, eps=1e-05, momentum=0.1, affine=True, track_running_stats=True)\n",
            "      )\n",
            "    )\n",
            "    (1): BasicBlock(\n",
            "      (conv1): Conv2d(32, 32, kernel_size=(3, 3), stride=(1, 1), padding=(1, 1), bias=False)\n",
            "      (bn1): BatchNorm2d(32, eps=1e-05, momentum=0.1, affine=True, track_running_stats=True)\n",
            "      (conv2): Conv2d(32, 32, kernel_size=(3, 3), stride=(1, 1), padding=(1, 1), bias=False)\n",
            "      (bn2): BatchNorm2d(32, eps=1e-05, momentum=0.1, affine=True, track_running_stats=True)\n",
            "      (shortcut): Sequential()\n",
            "    )\n",
            "  )\n",
            "  (layer3): Sequential(\n",
            "    (0): BasicBlock(\n",
            "      (conv1): Conv2d(32, 64, kernel_size=(3, 3), stride=(2, 2), padding=(1, 1), bias=False)\n",
            "      (bn1): BatchNorm2d(64, eps=1e-05, momentum=0.1, affine=True, track_running_stats=True)\n",
            "      (conv2): Conv2d(64, 64, kernel_size=(3, 3), stride=(1, 1), padding=(1, 1), bias=False)\n",
            "      (bn2): BatchNorm2d(64, eps=1e-05, momentum=0.1, affine=True, track_running_stats=True)\n",
            "      (shortcut): Sequential(\n",
            "        (0): Conv2d(32, 64, kernel_size=(1, 1), stride=(2, 2), bias=False)\n",
            "        (1): BatchNorm2d(64, eps=1e-05, momentum=0.1, affine=True, track_running_stats=True)\n",
            "      )\n",
            "    )\n",
            "    (1): BasicBlock(\n",
            "      (conv1): Conv2d(64, 64, kernel_size=(3, 3), stride=(1, 1), padding=(1, 1), bias=False)\n",
            "      (bn1): BatchNorm2d(64, eps=1e-05, momentum=0.1, affine=True, track_running_stats=True)\n",
            "      (conv2): Conv2d(64, 64, kernel_size=(3, 3), stride=(1, 1), padding=(1, 1), bias=False)\n",
            "      (bn2): BatchNorm2d(64, eps=1e-05, momentum=0.1, affine=True, track_running_stats=True)\n",
            "      (shortcut): Sequential()\n",
            "    )\n",
            "  )\n",
            "  (linear): Linear(in_features=64, out_features=10, bias=True)\n",
            ")\n"
          ],
          "name": "stdout"
        }
      ]
    },
    {
      "cell_type": "code",
      "metadata": {
        "id": "gjofLjfdIfX8"
      },
      "source": [
        "'''7. CNN모델 학습 진행하면서 Train데이터에 대한 모델의 성능 확인하는 함수 정의'''\n",
        "def train(model, train_loader, optimizer, log_interval):\n",
        "  model.train()\n",
        "  for batch_idx,(image,label) in enumerate(train_loader):\n",
        "    image=image.to(DEVICE)\n",
        "    label=label.to(DEVICE)\n",
        "    optimizer.zero_grad()\n",
        "    output= model(image)\n",
        "    loss = criterion(output, label)\n",
        "    loss.backward()\n",
        "    optimizer.step()\n",
        " \n",
        "    if batch_idx %log_interval ==0:\n",
        "      print(\"Train Epoch:{}[{}/{}({:.0f}%)]\\tTrain Loss:{:.6f}\".format(Epoch, batch_idx*len(image),\n",
        "                                                                       len(train_loader.dataset),100.*batch_idx/len(train_loader),loss.item()))"
      ],
      "execution_count": 50,
      "outputs": []
    },
    {
      "cell_type": "code",
      "metadata": {
        "id": "KGrixKBdJFWL"
      },
      "source": [
        "'''8. 학습 과정 속에서 Test 데이터에 대한 모델 성능 확인하는 함수 정의'''\n",
        " \n",
        "def evaluate(model, test_loader):\n",
        "  model.eval()\n",
        "  test_loss=0\n",
        "  correct=0\n",
        "  with torch.no_grad():\n",
        "    for image, label in test_loader:\n",
        "      image=image.to(DEVICE)\n",
        "      label=label.to(DEVICE)\n",
        "      output = model(image)\n",
        " \n",
        "      test_loss += criterion(output, label).item()\n",
        "      prediction=output.max(1,keepdim=True)[1]\n",
        "      correct += prediction.eq(label.view_as(prediction)).sum().item()\n",
        "\n",
        "  test_loss/=len(test_loader.dataset)\n",
        "  test_accuracy=100.*correct/len(test_loader.dataset)\n",
        "\n",
        "  return test_loss, test_accuracy"
      ],
      "execution_count": 51,
      "outputs": []
    },
    {
      "cell_type": "code",
      "metadata": {
        "colab": {
          "base_uri": "https://localhost:8080/"
        },
        "id": "83v0IHM7LnJN",
        "outputId": "642083d3-00e4-4ab1-aa30-21fc26cfa704"
      },
      "source": [
        "'''9. CNN학습을 실행하면서 Test set의 Reconstruction Error 확인'''\n",
        "for Epoch in range(1,EPOCHS+1):\n",
        "  train(model, train_loader, optimizer, log_interval = 200)\n",
        "  test_loss, test_accuracy = evaluate(model, test_loader)\n",
        "  print(\"\\n[EPOCH:{}], \\tTest Loss: {:.4f}, \\tTest Accuracy:{:.2f}% \\n\".format(Epoch,test_loss, test_accuracy))"
      ],
      "execution_count": 52,
      "outputs": [
        {
          "output_type": "stream",
          "text": [
            "Train Epoch:1[0/50000(0%)]\tTrain Loss:2.506530\n",
            "Train Epoch:1[6400/50000(13%)]\tTrain Loss:1.331616\n",
            "Train Epoch:1[12800/50000(26%)]\tTrain Loss:1.177642\n",
            "Train Epoch:1[19200/50000(38%)]\tTrain Loss:1.179705\n",
            "Train Epoch:1[25600/50000(51%)]\tTrain Loss:1.026020\n",
            "Train Epoch:1[32000/50000(64%)]\tTrain Loss:1.121610\n",
            "Train Epoch:1[38400/50000(77%)]\tTrain Loss:0.909776\n",
            "Train Epoch:1[44800/50000(90%)]\tTrain Loss:1.524731\n",
            "\n",
            "[EPOCH:1], \tTest Loss: 0.0323, \tTest Accuracy:62.46% \n",
            "\n",
            "Train Epoch:2[0/50000(0%)]\tTrain Loss:0.837573\n",
            "Train Epoch:2[6400/50000(13%)]\tTrain Loss:0.811295\n",
            "Train Epoch:2[12800/50000(26%)]\tTrain Loss:0.960691\n",
            "Train Epoch:2[19200/50000(38%)]\tTrain Loss:0.869237\n",
            "Train Epoch:2[25600/50000(51%)]\tTrain Loss:1.061998\n",
            "Train Epoch:2[32000/50000(64%)]\tTrain Loss:0.856571\n",
            "Train Epoch:2[38400/50000(77%)]\tTrain Loss:0.652171\n",
            "Train Epoch:2[44800/50000(90%)]\tTrain Loss:0.753674\n",
            "\n",
            "[EPOCH:2], \tTest Loss: 0.0272, \tTest Accuracy:69.38% \n",
            "\n",
            "Train Epoch:3[0/50000(0%)]\tTrain Loss:1.003039\n",
            "Train Epoch:3[6400/50000(13%)]\tTrain Loss:0.569603\n",
            "Train Epoch:3[12800/50000(26%)]\tTrain Loss:0.545357\n",
            "Train Epoch:3[19200/50000(38%)]\tTrain Loss:0.984425\n",
            "Train Epoch:3[25600/50000(51%)]\tTrain Loss:0.606043\n",
            "Train Epoch:3[32000/50000(64%)]\tTrain Loss:0.770155\n",
            "Train Epoch:3[38400/50000(77%)]\tTrain Loss:0.995988\n",
            "Train Epoch:3[44800/50000(90%)]\tTrain Loss:0.496590\n",
            "\n",
            "[EPOCH:3], \tTest Loss: 0.0274, \tTest Accuracy:70.41% \n",
            "\n",
            "Train Epoch:4[0/50000(0%)]\tTrain Loss:0.603680\n",
            "Train Epoch:4[6400/50000(13%)]\tTrain Loss:0.642444\n",
            "Train Epoch:4[12800/50000(26%)]\tTrain Loss:0.657148\n",
            "Train Epoch:4[19200/50000(38%)]\tTrain Loss:0.865965\n",
            "Train Epoch:4[25600/50000(51%)]\tTrain Loss:0.700997\n",
            "Train Epoch:4[32000/50000(64%)]\tTrain Loss:0.655059\n",
            "Train Epoch:4[38400/50000(77%)]\tTrain Loss:0.746070\n",
            "Train Epoch:4[44800/50000(90%)]\tTrain Loss:0.501734\n",
            "\n",
            "[EPOCH:4], \tTest Loss: 0.0203, \tTest Accuracy:77.48% \n",
            "\n",
            "Train Epoch:5[0/50000(0%)]\tTrain Loss:0.899854\n",
            "Train Epoch:5[6400/50000(13%)]\tTrain Loss:0.540259\n",
            "Train Epoch:5[12800/50000(26%)]\tTrain Loss:0.831625\n",
            "Train Epoch:5[19200/50000(38%)]\tTrain Loss:0.620340\n",
            "Train Epoch:5[25600/50000(51%)]\tTrain Loss:0.617964\n",
            "Train Epoch:5[32000/50000(64%)]\tTrain Loss:0.654510\n",
            "Train Epoch:5[38400/50000(77%)]\tTrain Loss:0.961067\n",
            "Train Epoch:5[44800/50000(90%)]\tTrain Loss:0.561678\n",
            "\n",
            "[EPOCH:5], \tTest Loss: 0.0193, \tTest Accuracy:78.51% \n",
            "\n",
            "Train Epoch:6[0/50000(0%)]\tTrain Loss:0.445512\n",
            "Train Epoch:6[6400/50000(13%)]\tTrain Loss:0.652808\n",
            "Train Epoch:6[12800/50000(26%)]\tTrain Loss:0.695730\n",
            "Train Epoch:6[19200/50000(38%)]\tTrain Loss:0.603819\n",
            "Train Epoch:6[25600/50000(51%)]\tTrain Loss:0.313107\n",
            "Train Epoch:6[32000/50000(64%)]\tTrain Loss:0.591481\n",
            "Train Epoch:6[38400/50000(77%)]\tTrain Loss:0.399521\n",
            "Train Epoch:6[44800/50000(90%)]\tTrain Loss:0.643646\n",
            "\n",
            "[EPOCH:6], \tTest Loss: 0.0177, \tTest Accuracy:80.24% \n",
            "\n",
            "Train Epoch:7[0/50000(0%)]\tTrain Loss:0.414257\n",
            "Train Epoch:7[6400/50000(13%)]\tTrain Loss:0.802256\n",
            "Train Epoch:7[12800/50000(26%)]\tTrain Loss:0.463902\n",
            "Train Epoch:7[19200/50000(38%)]\tTrain Loss:0.574553\n",
            "Train Epoch:7[25600/50000(51%)]\tTrain Loss:0.474427\n",
            "Train Epoch:7[32000/50000(64%)]\tTrain Loss:0.289864\n",
            "Train Epoch:7[38400/50000(77%)]\tTrain Loss:0.629136\n",
            "Train Epoch:7[44800/50000(90%)]\tTrain Loss:0.435832\n",
            "\n",
            "[EPOCH:7], \tTest Loss: 0.0177, \tTest Accuracy:80.69% \n",
            "\n",
            "Train Epoch:8[0/50000(0%)]\tTrain Loss:0.475942\n",
            "Train Epoch:8[6400/50000(13%)]\tTrain Loss:0.564668\n",
            "Train Epoch:8[12800/50000(26%)]\tTrain Loss:0.424613\n",
            "Train Epoch:8[19200/50000(38%)]\tTrain Loss:0.274513\n",
            "Train Epoch:8[25600/50000(51%)]\tTrain Loss:0.481067\n",
            "Train Epoch:8[32000/50000(64%)]\tTrain Loss:0.345784\n",
            "Train Epoch:8[38400/50000(77%)]\tTrain Loss:0.583298\n",
            "Train Epoch:8[44800/50000(90%)]\tTrain Loss:0.419711\n",
            "\n",
            "[EPOCH:8], \tTest Loss: 0.0169, \tTest Accuracy:81.36% \n",
            "\n",
            "Train Epoch:9[0/50000(0%)]\tTrain Loss:0.291198\n",
            "Train Epoch:9[6400/50000(13%)]\tTrain Loss:0.454288\n",
            "Train Epoch:9[12800/50000(26%)]\tTrain Loss:0.585595\n",
            "Train Epoch:9[19200/50000(38%)]\tTrain Loss:0.558576\n",
            "Train Epoch:9[25600/50000(51%)]\tTrain Loss:0.474324\n",
            "Train Epoch:9[32000/50000(64%)]\tTrain Loss:0.315912\n",
            "Train Epoch:9[38400/50000(77%)]\tTrain Loss:0.360150\n",
            "Train Epoch:9[44800/50000(90%)]\tTrain Loss:0.594107\n",
            "\n",
            "[EPOCH:9], \tTest Loss: 0.0166, \tTest Accuracy:81.68% \n",
            "\n",
            "Train Epoch:10[0/50000(0%)]\tTrain Loss:0.352208\n",
            "Train Epoch:10[6400/50000(13%)]\tTrain Loss:0.733816\n",
            "Train Epoch:10[12800/50000(26%)]\tTrain Loss:0.478129\n",
            "Train Epoch:10[19200/50000(38%)]\tTrain Loss:0.507405\n",
            "Train Epoch:10[25600/50000(51%)]\tTrain Loss:0.272095\n",
            "Train Epoch:10[32000/50000(64%)]\tTrain Loss:0.420388\n",
            "Train Epoch:10[38400/50000(77%)]\tTrain Loss:0.486020\n",
            "Train Epoch:10[44800/50000(90%)]\tTrain Loss:0.524071\n",
            "\n",
            "[EPOCH:10], \tTest Loss: 0.0166, \tTest Accuracy:82.14% \n",
            "\n"
          ],
          "name": "stdout"
        }
      ]
    },
    {
      "cell_type": "markdown",
      "metadata": {
        "id": "M-T_Ma2NlQjm"
      },
      "source": [
        "ResNet의 특징은 Shortcut을 정의하는 부분이 있음. Shortcut은 기존의 값과 Convolution 및 Batch Normalization한 결과를 더하는 과정을 의미. 이때 Stride값이 1이 아니거나 in_planes가 planes와 같지 않다면, 즉 두 번째 블록부터 적용되는 Shortcut을 정의. \n",
        "\n",
        "_make_layer 부분에서는 인자 값으로 주어지는 stride를 이용해 stride 범위를 BasicBlock 마다 설정할 수 있도록 정의. 이후, strides의 범위인 stride값을 통해 생성한 BasicBlock의 결과값을 리스트에 추가. 이후, 반복문을 실행하면서 self.in_planes값을 매번 업데이트해 BasicBlock을 새로 생성하기 위해 self.in_planes를 planes 값으로 업데이트함. 이 과정은 Shortcut을 계산하기 위함."
      ]
    }
  ]
}